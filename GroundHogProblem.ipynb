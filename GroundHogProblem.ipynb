{
 "cells": [
  {
   "cell_type": "code",
   "execution_count": null,
   "metadata": {},
   "outputs": [],
   "source": [
    "# All of your imports here (you may need to add some)\n",
    "import numpy\n",
    "import scipy\n",
    "import pandas\n",
    "import matplotlib.pylab as plot\n",
    "import seaborn\n",
    "\n",
    "from sklearn.base import BaseEstimator, TransformerMixin\n",
    "from sklearn.impute import SimpleImputer\n",
    "from sklearn.pipeline import Pipeline\n",
    "from sklearn.compose import ColumnTransformer\n",
    "from sklearn.preprocessing import OneHotEncoder, FunctionTransformer, StandardScaler, MinMaxScaler\n",
    "\n",
    "from sklearn import set_config\n",
    "set_config(transform_output = \"pandas\")"
   ]
  },
  {
   "cell_type": "markdown",
   "metadata": {},
   "source": [
    "Frame the Problem and Look at the Big Picture\n",
    "=====================================\n",
    "1. **Define the objective in business terms:** Predict if it will be a long winter or a short winter.\n",
    "2. **How will your solution be used?** \n",
    "3. **How should you frame this problem?** <mark>\n",
    "4. **How should performance be measured? Is the performance measure aligned with the business objective?** \n",
    "5. **What would be the minimum performance needed to reach the business objective?** \n",
    "6. **What are comparable problems? Can you reuse (personal or readily available) experience or tools?** \n",
    "7. **Is human expertise available?**\n",
    "8. **How would you solve the problem manually?** \n",
    "9. **List the assumptions you (or others) have made so far. Verify assumptions if possible.** "
   ]
  }
 ],
 "metadata": {
  "kernelspec": {
   "display_name": "Python 3",
   "language": "python",
   "name": "python3"
  },
  "language_info": {
   "name": "python",
   "version": "3.12.6"
  }
 },
 "nbformat": 4,
 "nbformat_minor": 2
}
