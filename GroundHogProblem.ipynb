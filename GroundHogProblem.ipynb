{
 "cells": [
  {
   "cell_type": "code",
   "execution_count": 3,
   "metadata": {},
   "outputs": [],
   "source": [
    "# All of your imports here (you may need to add some)\n",
    "import numpy\n",
    "import scipy\n",
    "import pandas\n",
    "from pandas import read_csv\n",
    "import matplotlib.pylab as plot\n",
    "import seaborn\n",
    "import kagglehub\n",
    "from sklearn.base import BaseEstimator, TransformerMixin\n",
    "from sklearn.impute import SimpleImputer\n",
    "from sklearn.pipeline import Pipeline\n",
    "from sklearn.compose import ColumnTransformer\n",
    "from sklearn.preprocessing import OneHotEncoder, FunctionTransformer, StandardScaler, MinMaxScaler\n",
    "from sklearn.model_selection import train_test_split\n",
    "\n",
    "from sklearn import set_config\n",
    "set_config(transform_output = \"pandas\")"
   ]
  },
  {
   "cell_type": "markdown",
   "metadata": {},
   "source": [
    "# Will it be an early Spring?\n",
    "\n",
    "On February 2<sup>nd</sup> every year Punxsutawney Phil makes a prediction about if there will be an early Spring or if Winter will continue for 6 more weeks (till about mid-March). He is however not very accurate (well, according to [The Inner Circle](https://www.groundhog.org/inner-circle) he is 100% correct but the human handler may not interpret his response correctly). The overall goal is to be able to predict if it will be an early Spring.\n",
    "\n",
    "For this project you must go through most steps in the checklist. You must write responses for all items however sometimes the item will simply be \"does not apply\". Some of the parts are a bit more nebulous and you simply show that you have done things in general (and the order doesn't really matter). Keep your progress and thoughts organized in this document and use formatting as appropriate (using markdown to add headers and sub-headers for each major part). Do not do the final part (launching the product) and your presentation will be done as information written in this document in a dedicated section, no slides or anything like that. It should however include the best summary plots/graphics/data points.\n",
    "\n",
    "You are intentionally given very little information thus far. You must communicate with your client (me) for additional information as necessary. But also make sure that your communications are efficient, thought out, and not redundant as your client might get frustrated and \"fire\" you (this only applies to getting information from your client, this does not necessary apply to asking for help with the actual project itself - you should continuously ask questions for getting help).\n",
    "\n",
    "You must submit all data files and a pickled final model along with this notebook.\n",
    "\n",
    "The group with the best results on the 10% of the data that I kept for myself will earn +5 extra credit (if multiple groups are close points may be given to multiple groups)."
   ]
  },
  {
   "cell_type": "markdown",
   "metadata": {},
   "source": [
    "Frame the Problem and Look at the Big Picture\n",
    "=====================================\n",
    "1. **Define the objective in business terms:** Predict if there will be a 5 day avg air above 40(max) above 32(min) and soil above 50 on or before april 1st\n",
    "purchase before feb 25\n",
    "2. **How will your solution be used?** We will make a prediction on feb 24\n",
    "3. **How should you frame this problem?** This will be a supervised, classification problem. It will also be offline as it does not need to be constantly updated and can be updated annually.\n",
    "4. **How should performance be measured? Is the performance measure aligned with the business objective?** Use F1 score to balance precision and recall to make sure early spring is as accurate as possible. Yes.\n",
    "5. **What would be the minimum performance needed to reach the business objective?** Error should be near around 30 since the NWS is around that level of accuracy.\n",
    "6. **What are comparable problems? Can you reuse (personal or readily available) experience or tools?** No personal comparable problems. Predicting the weather is similar to predicting an early spring.\n",
    "7. **Is human expertise available?** National Weather Service is good at predicting and early spring and is around 70% accurate.\n",
    "8. **How would you solve the problem manually?** Look at the historical patterns which led to an early spring and which did not and compare them to this year. See if the patterns for this year will meat the thresholds we set to determine an early spring.\n",
    "9. **List the assumptions you (or others) have made so far. Verify assumptions if possible.** We assume that the defined temperature thresholds (air max > 40°F, min temp > 32°F, soil > 50°F) are the correct conditions for determining early spring. We also assume historical patterns will hold true."
   ]
  },
  {
   "cell_type": "markdown",
   "metadata": {},
   "source": [
    "# Get the Data\n",
    "\n",
    "1. **List the data you need and how much you need:**\n",
    "- Soil data for every day from 1947\n",
    "- Weather data for every day from 1947\n",
    "- Phil's predictions(With some data missing)\n",
    "- Early Spring(True or False)\n",
    "2. **Find and document where you can get that data:**\n",
    "- https://www.kaggle.com/datasets/groundhogclub/groundhog-day\n",
    "\n",
    "3. **Get access authorizations**: None needed, publicy available.\n",
    "- \n",
    "\n",
    "4. **Create a workspace**: This notebook.\n",
    "5. **Get the data**: Given to us plus extra data found at <mark>STILL NEEDED</mark>\n",
    "6. **Convert the data to a format you can easily manipulate**: Done, it's a CSV\n",
    "7. **Ensure sensitive information is deleted or protected**: Done\n",
    "8. **Check the size and type of data (time series, geographical, …)**: : \n",
    "   1. .\n",
    "\n",
    "Do not look at the data too closely at this point since you have not yet split off the testing set. Basically, enough looking at it to understand *how* to split the test set off. It is likely you will have to review the website where the data came from to be able to understand some of the features."
   ]
  },
  {
   "cell_type": "code",
   "execution_count": 4,
   "metadata": {},
   "outputs": [],
   "source": [
    "spring = read_csv(\"early_spring.csv\")\n",
    "phil = read_csv(\"phil_pred.csv\")\n",
    "soil = read_csv(\"soil.csv\")\n",
    "weather = read_csv(\"weather.csv\")\n"
   ]
  },
  {
   "cell_type": "code",
   "execution_count": 5,
   "metadata": {},
   "outputs": [],
   "source": [
    "#Merging Weather and Soil(Must Change Soil \"Day\" to \"Date\")\n",
    "X = weather.join(soil.set_index(\"date\"), on=\"date\")\n",
    "y = spring"
   ]
  },
  {
   "cell_type": "code",
   "execution_count": 6,
   "metadata": {},
   "outputs": [
    {
     "name": "stdout",
     "output_type": "stream",
     "text": [
      "Phil True:  14\n",
      "Spring True:  35\n"
     ]
    }
   ],
   "source": [
    "phil_true = sum([1 for x in phil[\"prediction\"] if x == True])\n",
    "spring_true = sum([1 for x in spring[\"early_spring\"] if x == True])\n",
    "print(\"Phil True: \", phil_true)\n",
    "print(\"Spring True: \", spring_true)\n",
    "#from this we can see phil has significantly less true values than spring, and performs worse than a coin flip"
   ]
  },
  {
   "cell_type": "code",
   "execution_count": 7,
   "metadata": {},
   "outputs": [
    {
     "data": {
      "text/html": [
       "<div>\n",
       "<style scoped>\n",
       "    .dataframe tbody tr th:only-of-type {\n",
       "        vertical-align: middle;\n",
       "    }\n",
       "\n",
       "    .dataframe tbody tr th {\n",
       "        vertical-align: top;\n",
       "    }\n",
       "\n",
       "    .dataframe thead th {\n",
       "        text-align: right;\n",
       "    }\n",
       "</style>\n",
       "<table border=\"1\" class=\"dataframe\">\n",
       "  <thead>\n",
       "    <tr style=\"text-align: right;\">\n",
       "      <th></th>\n",
       "      <th>date</th>\n",
       "      <th>max_temp</th>\n",
       "      <th>min_temp</th>\n",
       "      <th>avg_temp</th>\n",
       "      <th>precipitation</th>\n",
       "      <th>snowfall</th>\n",
       "      <th>snowdepth</th>\n",
       "      <th>mean_soil_temp</th>\n",
       "      <th>mean_soil_moisture</th>\n",
       "      <th>min_soil_temp</th>\n",
       "      <th>min_soil_moisture</th>\n",
       "      <th>max_soil_temp</th>\n",
       "      <th>max_soil_moisture</th>\n",
       "    </tr>\n",
       "  </thead>\n",
       "  <tbody>\n",
       "    <tr>\n",
       "      <th>0</th>\n",
       "      <td>1947-01-01</td>\n",
       "      <td>30.0</td>\n",
       "      <td>24.0</td>\n",
       "      <td>27.0</td>\n",
       "      <td>0.12</td>\n",
       "      <td>0.5</td>\n",
       "      <td>1.0</td>\n",
       "      <td>-3.220000</td>\n",
       "      <td>0.477200</td>\n",
       "      <td>-4.1</td>\n",
       "      <td>0.475</td>\n",
       "      <td>-1.4</td>\n",
       "      <td>0.480</td>\n",
       "    </tr>\n",
       "    <tr>\n",
       "      <th>1</th>\n",
       "      <td>1947-01-02</td>\n",
       "      <td>44.0</td>\n",
       "      <td>29.0</td>\n",
       "      <td>36.5</td>\n",
       "      <td>0.49</td>\n",
       "      <td>0.0</td>\n",
       "      <td>0.0</td>\n",
       "      <td>-2.533333</td>\n",
       "      <td>0.498333</td>\n",
       "      <td>-3.2</td>\n",
       "      <td>0.478</td>\n",
       "      <td>-1.8</td>\n",
       "      <td>0.518</td>\n",
       "    </tr>\n",
       "    <tr>\n",
       "      <th>2</th>\n",
       "      <td>1947-01-03</td>\n",
       "      <td>54.0</td>\n",
       "      <td>41.0</td>\n",
       "      <td>47.5</td>\n",
       "      <td>0.04</td>\n",
       "      <td>0.0</td>\n",
       "      <td>M</td>\n",
       "      <td>-1.733333</td>\n",
       "      <td>0.515000</td>\n",
       "      <td>-2.7</td>\n",
       "      <td>0.504</td>\n",
       "      <td>-0.1</td>\n",
       "      <td>0.519</td>\n",
       "    </tr>\n",
       "    <tr>\n",
       "      <th>3</th>\n",
       "      <td>1947-01-04</td>\n",
       "      <td>42.0</td>\n",
       "      <td>24.0</td>\n",
       "      <td>33.0</td>\n",
       "      <td>0.0</td>\n",
       "      <td>0.0</td>\n",
       "      <td>M</td>\n",
       "      <td>0.729167</td>\n",
       "      <td>0.496625</td>\n",
       "      <td>-0.1</td>\n",
       "      <td>0.489</td>\n",
       "      <td>2.1</td>\n",
       "      <td>0.509</td>\n",
       "    </tr>\n",
       "    <tr>\n",
       "      <th>4</th>\n",
       "      <td>1947-01-05</td>\n",
       "      <td>33.0</td>\n",
       "      <td>25.0</td>\n",
       "      <td>29.0</td>\n",
       "      <td>0.0</td>\n",
       "      <td>0.0</td>\n",
       "      <td>M</td>\n",
       "      <td>0.162500</td>\n",
       "      <td>0.485792</td>\n",
       "      <td>-0.7</td>\n",
       "      <td>0.484</td>\n",
       "      <td>1.1</td>\n",
       "      <td>0.489</td>\n",
       "    </tr>\n",
       "  </tbody>\n",
       "</table>\n",
       "</div>"
      ],
      "text/plain": [
       "         date max_temp min_temp avg_temp precipitation snowfall snowdepth  \\\n",
       "0  1947-01-01     30.0     24.0     27.0          0.12      0.5       1.0   \n",
       "1  1947-01-02     44.0     29.0     36.5          0.49      0.0       0.0   \n",
       "2  1947-01-03     54.0     41.0     47.5          0.04      0.0         M   \n",
       "3  1947-01-04     42.0     24.0     33.0           0.0      0.0         M   \n",
       "4  1947-01-05     33.0     25.0     29.0           0.0      0.0         M   \n",
       "\n",
       "   mean_soil_temp  mean_soil_moisture  min_soil_temp  min_soil_moisture  \\\n",
       "0       -3.220000            0.477200           -4.1              0.475   \n",
       "1       -2.533333            0.498333           -3.2              0.478   \n",
       "2       -1.733333            0.515000           -2.7              0.504   \n",
       "3        0.729167            0.496625           -0.1              0.489   \n",
       "4        0.162500            0.485792           -0.7              0.484   \n",
       "\n",
       "   max_soil_temp  max_soil_moisture  \n",
       "0           -1.4              0.480  \n",
       "1           -1.8              0.518  \n",
       "2           -0.1              0.519  \n",
       "3            2.1              0.509  \n",
       "4            1.1              0.489  "
      ]
     },
     "execution_count": 7,
     "metadata": {},
     "output_type": "execute_result"
    }
   ],
   "source": [
    "X.head()\n"
   ]
  },
  {
   "cell_type": "code",
   "execution_count": 8,
   "metadata": {},
   "outputs": [
    {
     "name": "stdout",
     "output_type": "stream",
     "text": [
      "<class 'pandas.core.frame.DataFrame'>\n",
      "RangeIndex: 3920 entries, 0 to 3919\n",
      "Data columns (total 13 columns):\n",
      " #   Column              Non-Null Count  Dtype  \n",
      "---  ------              --------------  -----  \n",
      " 0   date                3920 non-null   object \n",
      " 1   max_temp            3920 non-null   object \n",
      " 2   min_temp            3920 non-null   object \n",
      " 3   avg_temp            3920 non-null   object \n",
      " 4   precipitation       3920 non-null   object \n",
      " 5   snowfall            3920 non-null   object \n",
      " 6   snowdepth           3920 non-null   object \n",
      " 7   mean_soil_temp      3920 non-null   float64\n",
      " 8   mean_soil_moisture  3920 non-null   float64\n",
      " 9   min_soil_temp       3920 non-null   float64\n",
      " 10  min_soil_moisture   3920 non-null   float64\n",
      " 11  max_soil_temp       3920 non-null   float64\n",
      " 12  max_soil_moisture   3920 non-null   float64\n",
      "dtypes: float64(6), object(7)\n",
      "memory usage: 398.2+ KB\n"
     ]
    }
   ],
   "source": [
    "#X.value_counts()\n",
    "X.info()"
   ]
  },
  {
   "cell_type": "code",
   "execution_count": 9,
   "metadata": {},
   "outputs": [
    {
     "name": "stderr",
     "output_type": "stream",
     "text": [
      "/var/folders/gy/3h3chr9d34xfxb9qbx03m8ww0000gp/T/ipykernel_29782/2796929094.py:9: SettingWithCopyWarning: \n",
      "A value is trying to be set on a copy of a slice from a DataFrame\n",
      "\n",
      "See the caveats in the documentation: https://pandas.pydata.org/pandas-docs/stable/user_guide/indexing.html#returning-a-view-versus-a-copy\n",
      "  filtered_X.drop(columns=['date'], inplace=True)\n"
     ]
    },
    {
     "data": {
      "text/html": [
       "<div>\n",
       "<style scoped>\n",
       "    .dataframe tbody tr th:only-of-type {\n",
       "        vertical-align: middle;\n",
       "    }\n",
       "\n",
       "    .dataframe tbody tr th {\n",
       "        vertical-align: top;\n",
       "    }\n",
       "\n",
       "    .dataframe thead th {\n",
       "        text-align: right;\n",
       "    }\n",
       "</style>\n",
       "<table border=\"1\" class=\"dataframe\">\n",
       "  <thead>\n",
       "    <tr style=\"text-align: right;\">\n",
       "      <th></th>\n",
       "      <th>max_temp</th>\n",
       "      <th>min_temp</th>\n",
       "      <th>avg_temp</th>\n",
       "      <th>precipitation</th>\n",
       "      <th>snowfall</th>\n",
       "      <th>snowdepth</th>\n",
       "      <th>mean_soil_temp</th>\n",
       "      <th>mean_soil_moisture</th>\n",
       "      <th>min_soil_temp</th>\n",
       "      <th>min_soil_moisture</th>\n",
       "      <th>max_soil_temp</th>\n",
       "      <th>max_soil_moisture</th>\n",
       "      <th>month</th>\n",
       "      <th>year</th>\n",
       "    </tr>\n",
       "  </thead>\n",
       "  <tbody>\n",
       "    <tr>\n",
       "      <th>31</th>\n",
       "      <td>36.0</td>\n",
       "      <td>23.0</td>\n",
       "      <td>29.5</td>\n",
       "      <td>0.0</td>\n",
       "      <td>0.0</td>\n",
       "      <td>M</td>\n",
       "      <td>0.583333</td>\n",
       "      <td>0.480625</td>\n",
       "      <td>-0.2</td>\n",
       "      <td>0.477</td>\n",
       "      <td>2.2</td>\n",
       "      <td>0.484</td>\n",
       "      <td>2</td>\n",
       "      <td>1947</td>\n",
       "    </tr>\n",
       "    <tr>\n",
       "      <th>32</th>\n",
       "      <td>33.0</td>\n",
       "      <td>20.0</td>\n",
       "      <td>26.5</td>\n",
       "      <td>0.06</td>\n",
       "      <td>0.7</td>\n",
       "      <td>1.0</td>\n",
       "      <td>-0.216667</td>\n",
       "      <td>0.474125</td>\n",
       "      <td>-0.9</td>\n",
       "      <td>0.472</td>\n",
       "      <td>1.0</td>\n",
       "      <td>0.476</td>\n",
       "      <td>2</td>\n",
       "      <td>1947</td>\n",
       "    </tr>\n",
       "    <tr>\n",
       "      <th>33</th>\n",
       "      <td>44.0</td>\n",
       "      <td>4.0</td>\n",
       "      <td>24.0</td>\n",
       "      <td>0.0</td>\n",
       "      <td>0.0</td>\n",
       "      <td>T</td>\n",
       "      <td>-1.500000</td>\n",
       "      <td>0.470000</td>\n",
       "      <td>-3.2</td>\n",
       "      <td>0.468</td>\n",
       "      <td>-0.1</td>\n",
       "      <td>0.472</td>\n",
       "      <td>2</td>\n",
       "      <td>1947</td>\n",
       "    </tr>\n",
       "    <tr>\n",
       "      <th>34</th>\n",
       "      <td>47.0</td>\n",
       "      <td>5.0</td>\n",
       "      <td>26.0</td>\n",
       "      <td>0.06</td>\n",
       "      <td>1.2</td>\n",
       "      <td>1.0</td>\n",
       "      <td>-1.154167</td>\n",
       "      <td>0.466292</td>\n",
       "      <td>-7.4</td>\n",
       "      <td>0.465</td>\n",
       "      <td>0.3</td>\n",
       "      <td>0.468</td>\n",
       "      <td>2</td>\n",
       "      <td>1947</td>\n",
       "    </tr>\n",
       "    <tr>\n",
       "      <th>35</th>\n",
       "      <td>9.0</td>\n",
       "      <td>-2.0</td>\n",
       "      <td>3.5</td>\n",
       "      <td>T</td>\n",
       "      <td>T</td>\n",
       "      <td>1.0</td>\n",
       "      <td>-10.545833</td>\n",
       "      <td>0.463583</td>\n",
       "      <td>-12.7</td>\n",
       "      <td>0.463</td>\n",
       "      <td>-8.2</td>\n",
       "      <td>0.465</td>\n",
       "      <td>2</td>\n",
       "      <td>1947</td>\n",
       "    </tr>\n",
       "    <tr>\n",
       "      <th>...</th>\n",
       "      <td>...</td>\n",
       "      <td>...</td>\n",
       "      <td>...</td>\n",
       "      <td>...</td>\n",
       "      <td>...</td>\n",
       "      <td>...</td>\n",
       "      <td>...</td>\n",
       "      <td>...</td>\n",
       "      <td>...</td>\n",
       "      <td>...</td>\n",
       "      <td>...</td>\n",
       "      <td>...</td>\n",
       "      <td>...</td>\n",
       "      <td>...</td>\n",
       "    </tr>\n",
       "    <tr>\n",
       "      <th>3915</th>\n",
       "      <td>49.0</td>\n",
       "      <td>15.0</td>\n",
       "      <td>32.0</td>\n",
       "      <td>0.0</td>\n",
       "      <td>0.0</td>\n",
       "      <td>0.0</td>\n",
       "      <td>0.766667</td>\n",
       "      <td>0.428458</td>\n",
       "      <td>-0.4</td>\n",
       "      <td>0.423</td>\n",
       "      <td>4.5</td>\n",
       "      <td>0.431</td>\n",
       "      <td>2</td>\n",
       "      <td>2024</td>\n",
       "    </tr>\n",
       "    <tr>\n",
       "      <th>3916</th>\n",
       "      <td>55.0</td>\n",
       "      <td>24.0</td>\n",
       "      <td>39.5</td>\n",
       "      <td>0.0</td>\n",
       "      <td>0.0</td>\n",
       "      <td>0.0</td>\n",
       "      <td>2.770833</td>\n",
       "      <td>0.436958</td>\n",
       "      <td>1.1</td>\n",
       "      <td>0.423</td>\n",
       "      <td>4.8</td>\n",
       "      <td>0.486</td>\n",
       "      <td>2</td>\n",
       "      <td>2024</td>\n",
       "    </tr>\n",
       "    <tr>\n",
       "      <th>3917</th>\n",
       "      <td>46.0</td>\n",
       "      <td>36.0</td>\n",
       "      <td>41.0</td>\n",
       "      <td>0.53</td>\n",
       "      <td>0.0</td>\n",
       "      <td>0.0</td>\n",
       "      <td>3.412500</td>\n",
       "      <td>0.491792</td>\n",
       "      <td>1.1</td>\n",
       "      <td>0.475</td>\n",
       "      <td>6.8</td>\n",
       "      <td>0.516</td>\n",
       "      <td>2</td>\n",
       "      <td>2024</td>\n",
       "    </tr>\n",
       "    <tr>\n",
       "      <th>3918</th>\n",
       "      <td>55.0</td>\n",
       "      <td>28.0</td>\n",
       "      <td>41.5</td>\n",
       "      <td>0.0</td>\n",
       "      <td>0.0</td>\n",
       "      <td>0.0</td>\n",
       "      <td>1.645833</td>\n",
       "      <td>0.472458</td>\n",
       "      <td>0.6</td>\n",
       "      <td>0.462</td>\n",
       "      <td>5.2</td>\n",
       "      <td>0.480</td>\n",
       "      <td>2</td>\n",
       "      <td>2024</td>\n",
       "    </tr>\n",
       "    <tr>\n",
       "      <th>3919</th>\n",
       "      <td>37.0</td>\n",
       "      <td>15.0</td>\n",
       "      <td>26.0</td>\n",
       "      <td>0.0</td>\n",
       "      <td>0.0</td>\n",
       "      <td>0.0</td>\n",
       "      <td>0.241667</td>\n",
       "      <td>0.461083</td>\n",
       "      <td>-0.5</td>\n",
       "      <td>0.459</td>\n",
       "      <td>1.3</td>\n",
       "      <td>0.463</td>\n",
       "      <td>2</td>\n",
       "      <td>2024</td>\n",
       "    </tr>\n",
       "  </tbody>\n",
       "</table>\n",
       "<p>1750 rows × 14 columns</p>\n",
       "</div>"
      ],
      "text/plain": [
       "     max_temp min_temp avg_temp precipitation snowfall snowdepth  \\\n",
       "31       36.0     23.0     29.5           0.0      0.0         M   \n",
       "32       33.0     20.0     26.5          0.06      0.7       1.0   \n",
       "33       44.0      4.0     24.0           0.0      0.0         T   \n",
       "34       47.0      5.0     26.0          0.06      1.2       1.0   \n",
       "35        9.0     -2.0      3.5             T        T       1.0   \n",
       "...       ...      ...      ...           ...      ...       ...   \n",
       "3915     49.0     15.0     32.0           0.0      0.0       0.0   \n",
       "3916     55.0     24.0     39.5           0.0      0.0       0.0   \n",
       "3917     46.0     36.0     41.0          0.53      0.0       0.0   \n",
       "3918     55.0     28.0     41.5           0.0      0.0       0.0   \n",
       "3919     37.0     15.0     26.0           0.0      0.0       0.0   \n",
       "\n",
       "      mean_soil_temp  mean_soil_moisture  min_soil_temp  min_soil_moisture  \\\n",
       "31          0.583333            0.480625           -0.2              0.477   \n",
       "32         -0.216667            0.474125           -0.9              0.472   \n",
       "33         -1.500000            0.470000           -3.2              0.468   \n",
       "34         -1.154167            0.466292           -7.4              0.465   \n",
       "35        -10.545833            0.463583          -12.7              0.463   \n",
       "...              ...                 ...            ...                ...   \n",
       "3915        0.766667            0.428458           -0.4              0.423   \n",
       "3916        2.770833            0.436958            1.1              0.423   \n",
       "3917        3.412500            0.491792            1.1              0.475   \n",
       "3918        1.645833            0.472458            0.6              0.462   \n",
       "3919        0.241667            0.461083           -0.5              0.459   \n",
       "\n",
       "      max_soil_temp  max_soil_moisture  month  year  \n",
       "31              2.2              0.484      2  1947  \n",
       "32              1.0              0.476      2  1947  \n",
       "33             -0.1              0.472      2  1947  \n",
       "34              0.3              0.468      2  1947  \n",
       "35             -8.2              0.465      2  1947  \n",
       "...             ...                ...    ...   ...  \n",
       "3915            4.5              0.431      2  2024  \n",
       "3916            4.8              0.486      2  2024  \n",
       "3917            6.8              0.516      2  2024  \n",
       "3918            5.2              0.480      2  2024  \n",
       "3919            1.3              0.463      2  2024  \n",
       "\n",
       "[1750 rows x 14 columns]"
      ]
     },
     "execution_count": 9,
     "metadata": {},
     "output_type": "execute_result"
    }
   ],
   "source": [
    "X[\"date\"] = pandas.to_datetime(X[\"date\"])\n",
    "X[\"date\"][:55]\n",
    "#filtered_X = X[(X['date'] <= '1947-02-25') & (X['date'] >= '1947-02-01')]\n",
    "#X['day'] = X['date'].dt.day\n",
    "X['month'] = X['date'].dt.month\n",
    "X['year'] = X['date'].dt.year\n",
    "\n",
    "filtered_X = X[X['month'] == 2]\n",
    "filtered_X.drop(columns=['date'], inplace=True)\n",
    "filtered_X"
   ]
  },
  {
   "cell_type": "code",
   "execution_count": 10,
   "metadata": {},
   "outputs": [
    {
     "data": {
      "text/plain": [
       "array([[<Axes: title={'center': 'mean_soil_temp'}>,\n",
       "        <Axes: title={'center': 'mean_soil_moisture'}>,\n",
       "        <Axes: title={'center': 'min_soil_temp'}>],\n",
       "       [<Axes: title={'center': 'min_soil_moisture'}>,\n",
       "        <Axes: title={'center': 'max_soil_temp'}>,\n",
       "        <Axes: title={'center': 'max_soil_moisture'}>],\n",
       "       [<Axes: title={'center': 'month'}>,\n",
       "        <Axes: title={'center': 'year'}>, <Axes: >]], dtype=object)"
      ]
     },
     "execution_count": 10,
     "metadata": {},
     "output_type": "execute_result"
    },
    {
     "data": {
      "image/png": "[encoded data removed]",
      "text/plain": [
       "<Figure size 1000x700 with 9 Axes>"
      ]
     },
     "metadata": {},
     "output_type": "display_data"
    }
   ],
   "source": [
    "#X.hist()\n",
    "filtered_X.hist(bins=50, figsize=(10,7))\n",
    "#Just using febuary data, as it is the month of the prediction, and the data seems more normal."
   ]
  },
  {
   "cell_type": "markdown",
   "metadata": {},
   "source": [
    "### Just using febuary data, as it is the month of the prediction, and the data seems more normal.\n",
    "- Mean soil Moisture= Normal Distribution\n",
    "- Min Soil Moisture = Normal Distribution\n",
    "- Min Temp = Normal Distribution\n",
    "- Max soil temp = Left Skewed(Tested with Log, not Log Normal)\n",
    "- Max Soil Moisutre = Normal\n",
    "\n"
   ]
  },
  {
   "cell_type": "markdown",
   "metadata": {},
   "source": []
  },
  {
   "cell_type": "code",
   "execution_count": 11,
   "metadata": {},
   "outputs": [],
   "source": [
    "#filtered_X = filtered_X[filtered_X[\"max_soil_moisture\"] < 100]\n",
    "#filtered_X[\"max_soil_moisture\"].hist(bins=50, figsize=(10,5))\n",
    "\n"
   ]
  },
  {
   "cell_type": "code",
   "execution_count": 12,
   "metadata": {},
   "outputs": [
    {
     "data": {
      "text/plain": [
       "<Axes: >"
      ]
     },
     "execution_count": 12,
     "metadata": {},
     "output_type": "execute_result"
    },
    {
     "data": {
      "image/png": "[encoded data removed]",
      "text/plain": [
       "<Figure size 1000x500 with 1 Axes>"
      ]
     },
     "metadata": {},
     "output_type": "display_data"
    }
   ],
   "source": [
    "X[\"snowdepth\"].value_counts()\n",
    "X_filtered = X.copy()\n",
    "# remove T and M values\n",
    "X_filtered = X_filtered[X_filtered[\"snowdepth\"] != \"T\"]\n",
    "X_filtered = X_filtered[X_filtered[\"snowdepth\"] != \"M\"]\n",
    "X_filtered[\"snowdepth\"].hist(bins=25, figsize=(10,5))\n"
   ]
  },
  {
   "cell_type": "markdown",
   "metadata": {},
   "source": [
    "Do not know what M and T stand for: should ask farmer Jeff."
   ]
  },
  {
   "cell_type": "code",
   "execution_count": 13,
   "metadata": {},
   "outputs": [
    {
     "data": {
      "text/plain": [
       "snowfall\n",
       "0.0     2101\n",
       "T        666\n",
       "1.0      223\n",
       "0.5      206\n",
       "2.0      105\n",
       "        ... \n",
       "7.5        1\n",
       "4.1        1\n",
       "12.0       1\n",
       "3.7        1\n",
       "4.4        1\n",
       "Name: count, Length: 69, dtype: int64"
      ]
     },
     "execution_count": 13,
     "metadata": {},
     "output_type": "execute_result"
    }
   ],
   "source": [
    "X[\"snowfall\"].value_counts()"
   ]
  },
  {
   "cell_type": "code",
   "execution_count": 14,
   "metadata": {},
   "outputs": [
    {
     "data": {
      "text/plain": [
       "<Axes: >"
      ]
     },
     "execution_count": 14,
     "metadata": {},
     "output_type": "execute_result"
    },
    {
     "data": {
      "image/png": "[encoded data removed]",
      "text/plain": [
       "<Figure size 1000x500 with 1 Axes>"
      ]
     },
     "metadata": {},
     "output_type": "display_data"
    }
   ],
   "source": [
    "\n",
    "X_filtered = X.copy()\n",
    "# remove T and M values\n",
    "X_filtered = X_filtered[X_filtered[\"snowfall\"] != \"T\"]\n",
    "X_filtered = X_filtered[X_filtered[\"snowfall\"] != \"M\"]\n",
    "X_filtered[\"snowfall\"] = X_filtered[\"snowfall\"].astype(float)\n",
    "\n",
    "X_filtered = X_filtered[X_filtered[\"snowfall\"] < 5]\n",
    "X_filtered[\"snowfall\"].hist(bins=100, figsize=(10,5))"
   ]
  },
  {
   "cell_type": "markdown",
   "metadata": {},
   "source": [
    "- Again with the M and Ts\n",
    "- Not very continuous\n",
    "- Very left skewed"
   ]
  },
  {
   "cell_type": "code",
   "execution_count": 15,
   "metadata": {},
   "outputs": [
    {
     "data": {
      "text/plain": [
       "<Axes: >"
      ]
     },
     "execution_count": 15,
     "metadata": {},
     "output_type": "execute_result"
    },
    {
     "data": {
      "image/png": "[encoded data removed]",
      "text/plain": [
       "<Figure size 1000x500 with 1 Axes>"
      ]
     },
     "metadata": {},
     "output_type": "display_data"
    }
   ],
   "source": [
    "X_filtered = X.copy()\n",
    "# remove T and M values\n",
    "X_filtered = X_filtered[X_filtered[\"precipitation\"] != \"T\"]\n",
    "X_filtered = X_filtered[X_filtered[\"precipitation\"] != \"M\"]\n",
    "X_filtered[\"precipitation\"] = X_filtered[\"precipitation\"].astype(float)\n",
    "X_filtered[\"precipitation\"].hist(bins=100, figsize=(10,5))"
   ]
  },
  {
   "cell_type": "markdown",
   "metadata": {},
   "source": [
    "- Again with the M and Ts\n",
    "- Looks like a log"
   ]
  }
 ],
 "metadata": {
  "kernelspec": {
   "display_name": "Python 3",
   "language": "python",
   "name": "python3"
  },
  "language_info": {
   "codemirror_mode": {
    "name": "ipython",
    "version": 3
   },
   "file_extension": ".py",
   "mimetype": "text/x-python",
   "name": "python",
   "nbconvert_exporter": "python",
   "pygments_lexer": "ipython3",
   "version": "3.9.6"
  }
 },
 "nbformat": 4,
 "nbformat_minor": 2
}
