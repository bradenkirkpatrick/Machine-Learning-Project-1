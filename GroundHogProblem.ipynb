{
 "cells": [
  {
   "cell_type": "code",
   "execution_count": 43,
   "metadata": {},
   "outputs": [],
   "source": [
    "# All of your imports here (you may need to add some)\n",
    "import numpy\n",
    "import scipy\n",
    "import pandas\n",
    "from pandas import read_csv\n",
    "import matplotlib.pylab as plot\n",
    "import seaborn\n",
    "import kagglehub\n",
    "from sklearn.base import BaseEstimator, TransformerMixin\n",
    "from sklearn.impute import SimpleImputer\n",
    "from sklearn.pipeline import Pipeline\n",
    "from sklearn.compose import ColumnTransformer\n",
    "from sklearn.preprocessing import OneHotEncoder, FunctionTransformer, StandardScaler, MinMaxScaler\n",
    "from sklearn.model_selection import train_test_split\n",
    "\n",
    "from sklearn import set_config\n",
    "set_config(transform_output = \"pandas\")"
   ]
  },
  {
   "cell_type": "markdown",
   "metadata": {},
   "source": [
    "# Will it be an early Spring?\n",
    "\n",
    "On February 2<sup>nd</sup> every year Punxsutawney Phil makes a prediction about if there will be an early Spring or if Winter will continue for 6 more weeks (till about mid-March). He is however not very accurate (well, according to [The Inner Circle](https://www.groundhog.org/inner-circle) he is 100% correct but the human handler may not interpret his response correctly). The overall goal is to be able to predict if it will be an early Spring.\n",
    "\n",
    "For this project you must go through most steps in the checklist. You must write responses for all items however sometimes the item will simply be \"does not apply\". Some of the parts are a bit more nebulous and you simply show that you have done things in general (and the order doesn't really matter). Keep your progress and thoughts organized in this document and use formatting as appropriate (using markdown to add headers and sub-headers for each major part). Do not do the final part (launching the product) and your presentation will be done as information written in this document in a dedicated section, no slides or anything like that. It should however include the best summary plots/graphics/data points.\n",
    "\n",
    "You are intentionally given very little information thus far. You must communicate with your client (me) for additional information as necessary. But also make sure that your communications are efficient, thought out, and not redundant as your client might get frustrated and \"fire\" you (this only applies to getting information from your client, this does not necessary apply to asking for help with the actual project itself - you should continuously ask questions for getting help).\n",
    "\n",
    "You must submit all data files and a pickled final model along with this notebook.\n",
    "\n",
    "The group with the best results on the 10% of the data that I kept for myself will earn +5 extra credit (if multiple groups are close points may be given to multiple groups)."
   ]
  },
  {
   "cell_type": "markdown",
   "metadata": {},
   "source": [
    "Frame the Problem and Look at the Big Picture\n",
    "=====================================\n",
    "1. **Define the objective in business terms:** Predict if there will be a 5 day avg air above 40(max) above 32(min) and soil above 50 on or before april 1st\n",
    "purchase before feb 25\n",
    "2. **How will your solution be used?** We will make a prediction on feb 24\n",
    "3. **How should you frame this problem?** <mark>\n",
    "4. **How should performance be measured? Is the performance measure aligned with the business objective?** \n",
    "5. **What would be the minimum performance needed to reach the business objective?** \n",
    "6. **What are comparable problems? Can you reuse (personal or readily available) experience or tools?** \n",
    "7. **Is human expertise available?**\n",
    "8. **How would you solve the problem manually?** \n",
    "9. **List the assumptions you (or others) have made so far. Verify assumptions if possible.** "
   ]
  },
  {
   "cell_type": "markdown",
   "metadata": {},
   "source": [
    "# Get the Data\n",
    "\n",
    "1. **List the data you need and how much you need:**\n",
    "2. **Find and document where you can get that data:**\n",
    "- https://www.kaggle.com/datasets/groundhogclub/groundhog-day\n",
    "\n",
    "3. **Get access authorizations**: None needed, publicy available.\n",
    "- \n",
    "\n",
    "4. **Create a workspace**: This notebook.\n",
    "5. **Get the data**: \n",
    "6. **Convert the data to a format you can easily manipulate**:\n",
    "7. **Ensure sensitive information is deleted or protected**: \n",
    "8. **Check the size and type of data (time series, geographical, …)**: : \n",
    "   1. .\n",
    "\n",
    "Do not look at the data too closely at this point since you have not yet split off the testing set. Basically, enough looking at it to understand *how* to split the test set off. It is likely you will have to review the website where the data came from to be able to understand some of the features."
   ]
  },
  {
   "cell_type": "code",
   "execution_count": 17,
   "metadata": {},
   "outputs": [],
   "source": []
  },
  {
   "cell_type": "code",
   "execution_count": null,
   "metadata": {},
   "outputs": [],
   "source": []
  },
  {
   "cell_type": "code",
   "execution_count": null,
   "metadata": {},
   "outputs": [],
   "source": [
    "\n"
   ]
  },
  {
   "cell_type": "code",
   "execution_count": null,
   "metadata": {},
   "outputs": [],
   "source": []
  },
  {
   "cell_type": "code",
   "execution_count": null,
   "metadata": {},
   "outputs": [],
   "source": []
  },
  {
   "cell_type": "code",
   "execution_count": 40,
   "metadata": {},
   "outputs": [],
   "source": []
  }
 ],
 "metadata": {
  "kernelspec": {
   "display_name": "venv",
   "language": "python",
   "name": "venv"
  },
  "language_info": {
   "codemirror_mode": {
    "name": "ipython",
    "version": 3
   },
   "file_extension": ".py",
   "mimetype": "text/x-python",
   "name": "python",
   "nbconvert_exporter": "python",
   "pygments_lexer": "ipython3",
   "version": "3.11.5"
  }
 },
 "nbformat": 4,
 "nbformat_minor": 2
}
