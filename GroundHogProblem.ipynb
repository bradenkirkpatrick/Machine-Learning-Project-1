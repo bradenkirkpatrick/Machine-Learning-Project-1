{
 "cells": [
  {
   "cell_type": "code",
   "execution_count": 43,
   "metadata": {},
   "outputs": [],
   "source": [
    "# All of your imports here (you may need to add some)\n",
    "import numpy\n",
    "import scipy\n",
    "import pandas\n",
    "from pandas import read_csv\n",
    "import matplotlib.pylab as plot\n",
    "import seaborn\n",
    "import kagglehub\n",
    "from sklearn.base import BaseEstimator, TransformerMixin\n",
    "from sklearn.impute import SimpleImputer\n",
    "from sklearn.pipeline import Pipeline\n",
    "from sklearn.compose import ColumnTransformer\n",
    "from sklearn.preprocessing import OneHotEncoder, FunctionTransformer, StandardScaler, MinMaxScaler\n",
    "from sklearn.model_selection import train_test_split\n",
    "\n",
    "from sklearn import set_config\n",
    "set_config(transform_output = \"pandas\")"
   ]
  },
  {
   "cell_type": "markdown",
   "metadata": {},
   "source": [
    "# Will it be an early Spring?\n",
    "\n",
    "On February 2<sup>nd</sup> every year Punxsutawney Phil makes a prediction about if there will be an early Spring or if Winter will continue for 6 more weeks (till about mid-March). He is however not very accurate (well, according to [The Inner Circle](https://www.groundhog.org/inner-circle) he is 100% correct but the human handler may not interpret his response correctly). The overall goal is to be able to predict if it will be an early Spring.\n",
    "\n",
    "For this project you must go through most steps in the checklist. You must write responses for all items however sometimes the item will simply be \"does not apply\". Some of the parts are a bit more nebulous and you simply show that you have done things in general (and the order doesn't really matter). Keep your progress and thoughts organized in this document and use formatting as appropriate (using markdown to add headers and sub-headers for each major part). Do not do the final part (launching the product) and your presentation will be done as information written in this document in a dedicated section, no slides or anything like that. It should however include the best summary plots/graphics/data points.\n",
    "\n",
    "You are intentionally given very little information thus far. You must communicate with your client (me) for additional information as necessary. But also make sure that your communications are efficient, thought out, and not redundant as your client might get frustrated and \"fire\" you (this only applies to getting information from your client, this does not necessary apply to asking for help with the actual project itself - you should continuously ask questions for getting help).\n",
    "\n",
    "You must submit all data files and a pickled final model along with this notebook.\n",
    "\n",
    "The group with the best results on the 10% of the data that I kept for myself will earn +5 extra credit (if multiple groups are close points may be given to multiple groups)."
   ]
  },
  {
   "cell_type": "markdown",
   "metadata": {},
   "source": [
    "Frame the Problem and Look at the Big Picture\n",
    "=====================================\n",
    "1. **Define the objective in business terms:** Predict if there will be a 5 day avg air above 40(max) above 32(min) and soil above 50 on or before april 1st\n",
    "purchase before feb 25\n",
    "2. **How will your solution be used?** We will make a prediction on feb 24\n",
    "3. **How should you frame this problem?** <mark>\n",
    "4. **How should performance be measured? Is the performance measure aligned with the business objective?** \n",
    "5. **What would be the minimum performance needed to reach the business objective?** \n",
    "6. **What are comparable problems? Can you reuse (personal or readily available) experience or tools?** \n",
    "7. **Is human expertise available?**\n",
    "8. **How would you solve the problem manually?** \n",
    "9. **List the assumptions you (or others) have made so far. Verify assumptions if possible.** "
   ]
  },
  {
   "cell_type": "markdown",
   "metadata": {},
   "source": [
    "# Get the Data\n",
    "\n",
    "1. **List the data you need and how much you need:**\n",
    "2. **Find and document where you can get that data:**\n",
    "- https://www.kaggle.com/datasets/groundhogclub/groundhog-day\n",
    "\n",
    "3. **Get access authorizations**: None needed, publicy available.\n",
    "- \n",
    "\n",
    "4. **Create a workspace**: This notebook.\n",
    "5. **Get the data**: \n",
    "6. **Convert the data to a format you can easily manipulate**:\n",
    "7. **Ensure sensitive information is deleted or protected**: \n",
    "8. **Check the size and type of data (time series, geographical, …)**: : \n",
    "   1. .\n",
    "\n",
    "Do not look at the data too closely at this point since you have not yet split off the testing set. Basically, enough looking at it to understand *how* to split the test set off. It is likely you will have to review the website where the data came from to be able to understand some of the features."
   ]
  },
  {
   "cell_type": "code",
   "execution_count": 57,
   "metadata": {},
   "outputs": [],
   "source": [
    "spring = read_csv(\"early_spring.csv\")\n",
    "phil = read_csv(\"phil_pred.csv\")\n",
    "soil = read_csv(\"soil.csv\")\n",
    "weather = read_csv(\"weather.csv\")\n"
   ]
  },
  {
   "cell_type": "code",
   "execution_count": 50,
   "metadata": {},
   "outputs": [],
   "source": [
    "#Merging Weather and Soil(Must Change Soil \"Day\" to \"Date\")\n",
    "X = weather.join(soil.set_index(\"date\"), on=\"date\")\n",
    "y = spring"
   ]
  },
  {
   "cell_type": "code",
   "execution_count": null,
   "metadata": {},
   "outputs": [],
   "source": [
    "spring[\"date\"]."
   ]
  },
  {
   "cell_type": "code",
   "execution_count": 52,
   "metadata": {},
   "outputs": [
    {
     "data": {
      "text/html": [
       "<div>\n",
       "<style scoped>\n",
       "    .dataframe tbody tr th:only-of-type {\n",
       "        vertical-align: middle;\n",
       "    }\n",
       "\n",
       "    .dataframe tbody tr th {\n",
       "        vertical-align: top;\n",
       "    }\n",
       "\n",
       "    .dataframe thead th {\n",
       "        text-align: right;\n",
       "    }\n",
       "</style>\n",
       "<table border=\"1\" class=\"dataframe\">\n",
       "  <thead>\n",
       "    <tr style=\"text-align: right;\">\n",
       "      <th></th>\n",
       "      <th>date</th>\n",
       "      <th>max_temp</th>\n",
       "      <th>min_temp</th>\n",
       "      <th>avg_temp</th>\n",
       "      <th>precipitation</th>\n",
       "      <th>snowfall</th>\n",
       "      <th>snowdepth</th>\n",
       "      <th>mean_soil_temp</th>\n",
       "      <th>mean_soil_moisture</th>\n",
       "      <th>min_soil_temp</th>\n",
       "      <th>min_soil_moisture</th>\n",
       "      <th>max_soil_temp</th>\n",
       "      <th>max_soil_moisture</th>\n",
       "    </tr>\n",
       "  </thead>\n",
       "  <tbody>\n",
       "    <tr>\n",
       "      <th>0</th>\n",
       "      <td>1947-01-01</td>\n",
       "      <td>30.0</td>\n",
       "      <td>24.0</td>\n",
       "      <td>27.0</td>\n",
       "      <td>0.12</td>\n",
       "      <td>0.5</td>\n",
       "      <td>1.0</td>\n",
       "      <td>-3.220000</td>\n",
       "      <td>0.477200</td>\n",
       "      <td>-4.1</td>\n",
       "      <td>0.475</td>\n",
       "      <td>-1.4</td>\n",
       "      <td>0.480</td>\n",
       "    </tr>\n",
       "    <tr>\n",
       "      <th>1</th>\n",
       "      <td>1947-01-02</td>\n",
       "      <td>44.0</td>\n",
       "      <td>29.0</td>\n",
       "      <td>36.5</td>\n",
       "      <td>0.49</td>\n",
       "      <td>0.0</td>\n",
       "      <td>0.0</td>\n",
       "      <td>-2.533333</td>\n",
       "      <td>0.498333</td>\n",
       "      <td>-3.2</td>\n",
       "      <td>0.478</td>\n",
       "      <td>-1.8</td>\n",
       "      <td>0.518</td>\n",
       "    </tr>\n",
       "    <tr>\n",
       "      <th>2</th>\n",
       "      <td>1947-01-03</td>\n",
       "      <td>54.0</td>\n",
       "      <td>41.0</td>\n",
       "      <td>47.5</td>\n",
       "      <td>0.04</td>\n",
       "      <td>0.0</td>\n",
       "      <td>M</td>\n",
       "      <td>-1.733333</td>\n",
       "      <td>0.515000</td>\n",
       "      <td>-2.7</td>\n",
       "      <td>0.504</td>\n",
       "      <td>-0.1</td>\n",
       "      <td>0.519</td>\n",
       "    </tr>\n",
       "    <tr>\n",
       "      <th>3</th>\n",
       "      <td>1947-01-04</td>\n",
       "      <td>42.0</td>\n",
       "      <td>24.0</td>\n",
       "      <td>33.0</td>\n",
       "      <td>0.0</td>\n",
       "      <td>0.0</td>\n",
       "      <td>M</td>\n",
       "      <td>0.729167</td>\n",
       "      <td>0.496625</td>\n",
       "      <td>-0.1</td>\n",
       "      <td>0.489</td>\n",
       "      <td>2.1</td>\n",
       "      <td>0.509</td>\n",
       "    </tr>\n",
       "    <tr>\n",
       "      <th>4</th>\n",
       "      <td>1947-01-05</td>\n",
       "      <td>33.0</td>\n",
       "      <td>25.0</td>\n",
       "      <td>29.0</td>\n",
       "      <td>0.0</td>\n",
       "      <td>0.0</td>\n",
       "      <td>M</td>\n",
       "      <td>0.162500</td>\n",
       "      <td>0.485792</td>\n",
       "      <td>-0.7</td>\n",
       "      <td>0.484</td>\n",
       "      <td>1.1</td>\n",
       "      <td>0.489</td>\n",
       "    </tr>\n",
       "  </tbody>\n",
       "</table>\n",
       "</div>"
      ],
      "text/plain": [
       "         date max_temp min_temp avg_temp precipitation snowfall snowdepth  \\\n",
       "0  1947-01-01     30.0     24.0     27.0          0.12      0.5       1.0   \n",
       "1  1947-01-02     44.0     29.0     36.5          0.49      0.0       0.0   \n",
       "2  1947-01-03     54.0     41.0     47.5          0.04      0.0         M   \n",
       "3  1947-01-04     42.0     24.0     33.0           0.0      0.0         M   \n",
       "4  1947-01-05     33.0     25.0     29.0           0.0      0.0         M   \n",
       "\n",
       "   mean_soil_temp  mean_soil_moisture  min_soil_temp  min_soil_moisture  \\\n",
       "0       -3.220000            0.477200           -4.1              0.475   \n",
       "1       -2.533333            0.498333           -3.2              0.478   \n",
       "2       -1.733333            0.515000           -2.7              0.504   \n",
       "3        0.729167            0.496625           -0.1              0.489   \n",
       "4        0.162500            0.485792           -0.7              0.484   \n",
       "\n",
       "   max_soil_temp  max_soil_moisture  \n",
       "0           -1.4              0.480  \n",
       "1           -1.8              0.518  \n",
       "2           -0.1              0.519  \n",
       "3            2.1              0.509  \n",
       "4            1.1              0.489  "
      ]
     },
     "execution_count": 52,
     "metadata": {},
     "output_type": "execute_result"
    }
   ],
   "source": [
    "X.head()\n"
   ]
  },
  {
   "cell_type": "code",
   "execution_count": 56,
   "metadata": {},
   "outputs": [
    {
     "name": "stdout",
     "output_type": "stream",
     "text": [
      "<class 'pandas.core.frame.DataFrame'>\n",
      "RangeIndex: 3920 entries, 0 to 3919\n",
      "Data columns (total 13 columns):\n",
      " #   Column              Non-Null Count  Dtype  \n",
      "---  ------              --------------  -----  \n",
      " 0   date                3920 non-null   object \n",
      " 1   max_temp            3920 non-null   object \n",
      " 2   min_temp            3920 non-null   object \n",
      " 3   avg_temp            3920 non-null   object \n",
      " 4   precipitation       3920 non-null   object \n",
      " 5   snowfall            3920 non-null   object \n",
      " 6   snowdepth           3920 non-null   object \n",
      " 7   mean_soil_temp      3920 non-null   float64\n",
      " 8   mean_soil_moisture  3920 non-null   float64\n",
      " 9   min_soil_temp       3920 non-null   float64\n",
      " 10  min_soil_moisture   3920 non-null   float64\n",
      " 11  max_soil_temp       3920 non-null   float64\n",
      " 12  max_soil_moisture   3920 non-null   float64\n",
      "dtypes: float64(6), object(7)\n",
      "memory usage: 398.3+ KB\n"
     ]
    }
   ],
   "source": [
    "#X.value_counts()\n",
    "X.info()"
   ]
  },
  {
   "cell_type": "code",
   "execution_count": null,
   "metadata": {},
   "outputs": [],
   "source": []
  },
  {
   "cell_type": "code",
   "execution_count": 40,
   "metadata": {},
   "outputs": [],
   "source": []
  }
 ],
 "metadata": {
  "kernelspec": {
   "display_name": "venv",
   "language": "python",
   "name": "venv"
  },
  "language_info": {
   "codemirror_mode": {
    "name": "ipython",
    "version": 3
   },
   "file_extension": ".py",
   "mimetype": "text/x-python",
   "name": "python",
   "nbconvert_exporter": "python",
   "pygments_lexer": "ipython3",
   "version": "3.11.5"
  }
 },
 "nbformat": 4,
 "nbformat_minor": 2
}
