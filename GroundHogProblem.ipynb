{
 "cells": [
  {
   "cell_type": "code",
   "execution_count": 28,
   "metadata": {},
   "outputs": [],
   "source": [
    "# All of your imports here (you may need to add some)\n",
    "import numpy\n",
    "import scipy\n",
    "import pandas\n",
    "import matplotlib.pylab as plot\n",
    "import seaborn\n",
    "\n",
    "from sklearn.base import BaseEstimator, TransformerMixin\n",
    "from sklearn.impute import SimpleImputer\n",
    "from sklearn.pipeline import Pipeline\n",
    "from sklearn.compose import ColumnTransformer\n",
    "from sklearn.preprocessing import OneHotEncoder, FunctionTransformer, StandardScaler, MinMaxScaler\n",
    "from sklearn.model_selection import train_test_split\n",
    "\n",
    "from sklearn import set_config\n",
    "set_config(transform_output = \"pandas\")"
   ]
  },
  {
   "cell_type": "markdown",
   "metadata": {},
   "source": [
    "# Will it be an early Spring?\n",
    "\n",
    "On February 2<sup>nd</sup> every year Punxsutawney Phil makes a prediction about if there will be an early Spring or if Winter will continue for 6 more weeks (till about mid-March). He is however not very accurate (well, according to [The Inner Circle](https://www.groundhog.org/inner-circle) he is 100% correct but the human handler may not interpret his response correctly). The overall goal is to be able to predict if it will be an early Spring.\n",
    "\n",
    "For this project you must go through most steps in the checklist. You must write responses for all items however sometimes the item will simply be \"does not apply\". Some of the parts are a bit more nebulous and you simply show that you have done things in general (and the order doesn't really matter). Keep your progress and thoughts organized in this document and use formatting as appropriate (using markdown to add headers and sub-headers for each major part). Do not do the final part (launching the product) and your presentation will be done as information written in this document in a dedicated section, no slides or anything like that. It should however include the best summary plots/graphics/data points.\n",
    "\n",
    "You are intentionally given very little information thus far. You must communicate with your client (me) for additional information as necessary. But also make sure that your communications are efficient, thought out, and not redundant as your client might get frustrated and \"fire\" you (this only applies to getting information from your client, this does not necessary apply to asking for help with the actual project itself - you should continuously ask questions for getting help).\n",
    "\n",
    "You must submit all data files and a pickled final model along with this notebook.\n",
    "\n",
    "The group with the best results on the 10% of the data that I kept for myself will earn +5 extra credit (if multiple groups are close points may be given to multiple groups)."
   ]
  },
  {
   "cell_type": "markdown",
   "metadata": {},
   "source": [
    "Frame the Problem and Look at the Big Picture\n",
    "=====================================\n",
    "1. **Define the objective in business terms:** Predict if it will be a long winter or a short winter.\n",
    "2. **How will your solution be used?** \n",
    "3. **How should you frame this problem?** <mark>\n",
    "4. **How should performance be measured? Is the performance measure aligned with the business objective?** \n",
    "5. **What would be the minimum performance needed to reach the business objective?** \n",
    "6. **What are comparable problems? Can you reuse (personal or readily available) experience or tools?** \n",
    "7. **Is human expertise available?**\n",
    "8. **How would you solve the problem manually?** \n",
    "9. **List the assumptions you (or others) have made so far. Verify assumptions if possible.** "
   ]
  },
  {
   "cell_type": "markdown",
   "metadata": {},
   "source": [
    "# Get the Data\n",
    "\n",
    "1. **List the data you need and how much you need:**\n",
    "2. **Find and document where you can get that data:**\n",
    "3. **Get access authorizations**: None needed, publicy available.\n",
    "4. **Create a workspace**: This notebook.\n",
    "5. **Get the data**: \n",
    "6. **Convert the data to a format you can easily manipulate**:\n",
    "7. **Ensure sensitive information is deleted or protected**: \n",
    "8. **Check the size and type of data (time series, geographical, …)**: : \n",
    "   1. .\n",
    "\n",
    "Do not look at the data too closely at this point since you have not yet split off the testing set. Basically, enough looking at it to understand *how* to split the test set off. It is likely you will have to review the website where the data came from to be able to understand some of the features."
   ]
  },
  {
   "cell_type": "code",
   "execution_count": 7,
   "metadata": {},
   "outputs": [],
   "source": [
    "from pandas import read_csv\n",
    "import kagglehub\n",
    "\n",
    "# Download latest version\n",
    "path = kagglehub.dataset_download(\"groundhogclub/groundhog-day\")\n",
    "\n",
    "ground_hog = read_csv(\"archive.csv\")"
   ]
  },
  {
   "cell_type": "code",
   "execution_count": 15,
   "metadata": {},
   "outputs": [
    {
     "data": {
      "text/plain": [
       "0   NaN\n",
       "1   NaN\n",
       "2   NaN\n",
       "3   NaN\n",
       "4   NaN\n",
       "Name: February Average Temperature, dtype: float64"
      ]
     },
     "execution_count": 15,
     "metadata": {},
     "output_type": "execute_result"
    }
   ],
   "source": [
    "ground_hog[\"February Average Temperature\"].tail()"
   ]
  },
  {
   "cell_type": "code",
   "execution_count": 26,
   "metadata": {},
   "outputs": [
    {
     "data": {
      "text/plain": [
       "Year  Punxsutawney Phil  February Average Temperature  February Average Temperature (Northeast)  February Average Temperature (Midwest)  February Average Temperature (Pennsylvania)  March Average Temperature  March Average Temperature (Northeast)  March Average Temperature (Midwest)  March Average Temperature (Pennsylvania)\n",
       "1895  No Record          26.60                         15.6                                      21.9                                    17.0                                         39.97                      27.6                                   40.2                                 31.3                                        1\n",
       "1986  No Shadow          35.85                         22.3                                      34.3                                    26.7                                         46.18                      34.7                                   45.0                                 38.0                                        1\n",
       "1984  Full Shadow        37.38                         31.2                                      38.6                                    33.8                                         40.08                      26.6                                   36.8                                 29.5                                        1\n",
       "1983  No Shadow          36.86                         26.2                                      35.9                                    29.8                                         42.40                      35.7                                   43.5                                 38.7                                        1\n",
       "1982  Full Shadow        32.59                         22.9                                      30.4                                    26.9                                         42.03                      31.5                                   43.5                                 34.9                                        1\n",
       "                                                                                                                                                                                                                                                                                                                                        ..\n",
       "1931  Full Shadow        37.94                         24.2                                      38.0                                    29.0                                         39.42                      32.9                                   37.7                                 33.7                                        1\n",
       "1930  Full Shadow        40.10                         26.1                                      41.4                                    32.2                                         40.41                      31.7                                   40.8                                 35.1                                        1\n",
       "1929  Full Shadow        26.92                         21.7                                      26.2                                    24.7                                         43.56                      36.2                                   47.5                                 41.0                                        1\n",
       "1928  Full Shadow        34.34                         22.6                                      34.2                                    27.3                                         43.12                      30.2                                   42.0                                 34.0                                        1\n",
       "2016  No Shadow          39.47                         28.1                                      36.9                                    30.8                                         47.50                      38.8                                   49.5                                 43.4                                        1\n",
       "Name: count, Length: 122, dtype: int64"
      ]
     },
     "execution_count": 26,
     "metadata": {},
     "output_type": "execute_result"
    }
   ],
   "source": [
    "#Drop NaN Values(Using February Average Temp because it has the most NaN values)\n",
    "ground_hog = ground_hog.dropna(subset=[\"February Average Temperature\"])\n",
    "ground_hog = ground_hog.dropna(subset=[\"Punxsutawney Phil\"])\n",
    "\n",
    "ground_hog.value_counts()\n"
   ]
  },
  {
   "cell_type": "code",
   "execution_count": 27,
   "metadata": {},
   "outputs": [
    {
     "name": "stdout",
     "output_type": "stream",
     "text": [
      "<class 'pandas.core.frame.DataFrame'>\n",
      "Index: 122 entries, 9 to 130\n",
      "Data columns (total 10 columns):\n",
      " #   Column                                       Non-Null Count  Dtype  \n",
      "---  ------                                       --------------  -----  \n",
      " 0   Year                                         122 non-null    object \n",
      " 1   Punxsutawney Phil                            122 non-null    object \n",
      " 2   February Average Temperature                 122 non-null    float64\n",
      " 3   February Average Temperature (Northeast)     122 non-null    float64\n",
      " 4   February Average Temperature (Midwest)       122 non-null    float64\n",
      " 5   February Average Temperature (Pennsylvania)  122 non-null    float64\n",
      " 6   March Average Temperature                    122 non-null    float64\n",
      " 7   March Average Temperature (Northeast)        122 non-null    float64\n",
      " 8   March Average Temperature (Midwest)          122 non-null    float64\n",
      " 9   March Average Temperature (Pennsylvania)     122 non-null    float64\n",
      "dtypes: float64(8), object(2)\n",
      "memory usage: 10.5+ KB\n"
     ]
    }
   ],
   "source": [
    "ground_hog.info()"
   ]
  },
  {
   "cell_type": "code",
   "execution_count": 30,
   "metadata": {},
   "outputs": [],
   "source": [
    "train_set, test_set = train_test_split(ground_hog, test_size=0.10, random_state=42) \n"
   ]
  }
 ],
 "metadata": {
  "kernelspec": {
   "display_name": "venv",
   "language": "python",
   "name": "venv"
  },
  "language_info": {
   "codemirror_mode": {
    "name": "ipython",
    "version": 3
   },
   "file_extension": ".py",
   "mimetype": "text/x-python",
   "name": "python",
   "nbconvert_exporter": "python",
   "pygments_lexer": "ipython3",
   "version": "3.11.5"
  }
 },
 "nbformat": 4,
 "nbformat_minor": 2
}
